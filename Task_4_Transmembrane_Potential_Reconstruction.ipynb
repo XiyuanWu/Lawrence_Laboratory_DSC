{
 "cells": [
  {
   "cell_type": "markdown",
   "metadata": {},
   "source": [
    "# Task 4 Transmembrane Potential Reconstruction\n",
    "\n",
    "## PLAN\n",
    "\n",
    "### 1.1 Task Description\n",
    "\n",
    "Task 4 requires reconstructing the entire transmembrane potential curve for 75 points in the myocardium based on ECG data. This involves using machine learning to predict the activation function curve over time for each of these points.\n",
    "\n",
    "### 1.2 Approach\n",
    "\n",
    "1. **Data Utilization**:\n",
    "   - Continue using the same dataset as in Task 3, which includes simulated ECG and activation maps.\n",
    "   - This data mimics the biophysical phenomena occurring during the cardiac cycle, captured through transmembrane voltage recordings.\n",
    "\n",
    "2. **Model Development**:\n",
    "   - Develop or adapt neural networks that can interpret the spatial and temporal dynamics of the heart's electrical activity.\n",
    "   - Expands this to model the continuous change in potential across different cardiac phases.\n",
    "\n",
    "3. **Training and Evaluation**:\n",
    "   - Train the neural network to learn from the simulated datasets where both the inputs (ECG data) and targets (transmembrane potential curves) are known.\n",
    "   - Evaluate the model's accuracy in reconstructing these curves, ensuring it captures the detailed fluctuations in potential that correspond to different cardiac events.\n",
    "\n",
    "## ANALYZE\n",
    "\n",
    "### 2.1 Prepare\n"
   ]
  },
  {
   "cell_type": "code",
   "execution_count": null,
   "metadata": {},
   "outputs": [],
   "source": [
    "# Analysis\n",
    "import numpy as np\n",
    "import pandas as pd\n",
    "\n",
    "import glob, re, os\n",
    "from typing import List\n",
    "\n",
    "# Visualization\n",
    "import matplotlib.pyplot as plt\n",
    "import seaborn as sns\n",
    "\n",
    "# Modeling\n",
    "import torch\n",
    "import torch.nn as nn\n",
    "import torch.optim as optim\n",
    "import torch.nn.functional as F\n",
    "\n",
    "# Data processing\n",
    "from torch.utils.data import DataLoader, TensorDataset\n",
    "from sklearn.utils import shuffle\n",
    "from torch.optim.lr_scheduler import StepLR\n",
    "\n",
    "# Save model\n",
    "import pickle\n",
    "\n",
    "# Ignore warning\n",
    "import warnings\n",
    "warnings.filterwarnings(\"ignore\")\n",
    "pd.set_option(\"display.max_rows\", 100)\n",
    "plt.style.use('ggplot')"
   ]
  },
  {
   "cell_type": "code",
   "execution_count": null,
   "metadata": {},
   "outputs": [],
   "source": [
    "# Load data\n",
    "ECGData = np.load('./combine_dataset/ecg_data.npy')\n",
    "ActTime = np.load('./combine_dataset/active_time.npy')"
   ]
  }
 ],
 "metadata": {
  "kernelspec": {
   "display_name": "Python 3",
   "language": "python",
   "name": "python3"
  },
  "language_info": {
   "name": "python",
   "version": "3.10.13"
  }
 },
 "nbformat": 4,
 "nbformat_minor": 2
}
